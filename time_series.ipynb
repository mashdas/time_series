{
  "nbformat": 4,
  "nbformat_minor": 0,
  "metadata": {
    "colab": {
      "name": "time_series.ipynb",
      "provenance": [],
      "collapsed_sections": [],
      "authorship_tag": "ABX9TyPzfdDyLNo1jkQyVtOv6GF/",
      "include_colab_link": true
    },
    "kernelspec": {
      "name": "python3",
      "display_name": "Python 3"
    }
  },
  "cells": [
    {
      "cell_type": "markdown",
      "metadata": {
        "id": "view-in-github",
        "colab_type": "text"
      },
      "source": [
        "<a href=\"https://colab.research.google.com/github/mashdas/time_series/blob/master/time_series.ipynb\" target=\"_parent\"><img src=\"https://colab.research.google.com/assets/colab-badge.svg\" alt=\"Open In Colab\"/></a>"
      ]
    },
    {
      "cell_type": "code",
      "metadata": {
        "id": "wvKbltfuno_i",
        "colab_type": "code",
        "colab": {}
      },
      "source": [
        "import tensorflow as tf\n",
        "import numpy as np\n",
        "import matplotlib.pyplot as plt"
      ],
      "execution_count": 0,
      "outputs": []
    },
    {
      "cell_type": "code",
      "metadata": {
        "id": "fFVtzEU5n0Qc",
        "colab_type": "code",
        "colab": {}
      },
      "source": [
        "def plot_series(time, series, format=\"-\", start=0, end=None):\n",
        "    plt.plot(time[start:end], series[start:end], format)\n",
        "    plt.xlabel(\"Time\")\n",
        "    plt.ylabel(\"Value\")\n",
        "    plt.grid(True)\n",
        "\n",
        "def trend(time, slope=0):\n",
        "    return slope * time\n",
        "\n",
        "def seasonal_pattern(season_time):\n",
        "    \"\"\"Just an arbitrary pattern, you can change it if you wish\"\"\"\n",
        "    return np.where(season_time < 0.4,\n",
        "                    np.cos(season_time * 2 * np.pi),\n",
        "                    1 / np.exp(3 * season_time))\n",
        "\n",
        "def seasonality(time, period, amplitude=1, phase=0):\n",
        "    \"\"\"Repeats the same pattern at each period\"\"\"\n",
        "    season_time = ((time + phase) % period) / period\n",
        "    return amplitude * seasonal_pattern(season_time)\n",
        "\n",
        "def noise(time, noise_level=1, seed=None):\n",
        "    rnd = np.random.RandomState(seed)\n",
        "    return rnd.randn(len(time)) * noise_level\n",
        "\n",
        "time = np.arange(4 * 365 + 1, dtype=\"float32\")\n",
        "baseline = 10\n",
        "series = trend(time, 0.1)  \n",
        "baseline = 10\n",
        "amplitude = 40\n",
        "slope = 0.05\n",
        "noise_level = 5\n",
        "\n",
        "# Create the series\n",
        "series = baseline + trend(time, slope) + seasonality(time, period=365, amplitude=amplitude)\n",
        "# Update with noise\n",
        "series += noise(time, noise_level, seed=42)\n",
        "\n",
        "split_time = 1000\n",
        "time_train = time[:split_time]\n",
        "x_train = series[:split_time]\n",
        "time_valid = time[split_time:]\n",
        "x_valid = series[split_time:]\n",
        "\n",
        "window_size = 20\n",
        "batch_size = 32\n",
        "shuffle_buffer_size = 1000"
      ],
      "execution_count": 0,
      "outputs": []
    },
    {
      "cell_type": "code",
      "metadata": {
        "id": "VL3LqOPgw19F",
        "colab_type": "code",
        "outputId": "87602ff4-9b46-4ec6-97bd-5ca539522835",
        "colab": {
          "base_uri": "https://localhost:8080/",
          "height": 52
        }
      },
      "source": [
        "series"
      ],
      "execution_count": 0,
      "outputs": [
        {
          "output_type": "execute_result",
          "data": {
            "text/plain": [
              "array([ 52.48357 ,  49.35275 ,  53.314735, ...,  91.37325 ,  88.32383 ,\n",
              "       122.30772 ], dtype=float32)"
            ]
          },
          "metadata": {
            "tags": []
          },
          "execution_count": 5
        }
      ]
    },
    {
      "cell_type": "code",
      "metadata": {
        "id": "uIaP_UZTxcds",
        "colab_type": "code",
        "outputId": "1fb605b5-4516-4b41-c261-08ac19f93a04",
        "colab": {
          "base_uri": "https://localhost:8080/",
          "height": 34
        }
      },
      "source": [
        "dataset=tf.data.Dataset.from_tensor_slices(series)\n",
        "dataset"
      ],
      "execution_count": 0,
      "outputs": [
        {
          "output_type": "execute_result",
          "data": {
            "text/plain": [
              "<TensorSliceDataset shapes: (), types: tf.float32>"
            ]
          },
          "metadata": {
            "tags": []
          },
          "execution_count": 6
        }
      ]
    },
    {
      "cell_type": "code",
      "metadata": {
        "id": "SQrpSK6AwrI-",
        "colab_type": "code",
        "outputId": "d4385c1f-36c8-47d4-c187-bf4e9938d14c",
        "colab": {
          "base_uri": "https://localhost:8080/",
          "height": 410
        }
      },
      "source": [
        "##we add plus 1 because x-1 is gonna be features..while 1 will be label\n",
        "dataset=dataset.window(window_size+1,shift=1,drop_remainder=True)\n",
        "for x in dataset:\n",
        "  for y in x:\n",
        "    print(y)\n",
        "  break    "
      ],
      "execution_count": 0,
      "outputs": [
        {
          "output_type": "stream",
          "text": [
            "<_VariantDataset shapes: DatasetSpec(DatasetSpec(DatasetSpec(TensorSpec(shape=(), dtype=tf.float32, name=None), TensorShape([])), TensorShape([])), TensorShape([])), types: DatasetSpec(DatasetSpec(DatasetSpec(TensorSpec(shape=(), dtype=tf.float32, name=None), TensorShape([])), TensorShape([])), TensorShape([]))>\n",
            "<_VariantDataset shapes: DatasetSpec(DatasetSpec(DatasetSpec(TensorSpec(shape=(), dtype=tf.float32, name=None), TensorShape([])), TensorShape([])), TensorShape([])), types: DatasetSpec(DatasetSpec(DatasetSpec(TensorSpec(shape=(), dtype=tf.float32, name=None), TensorShape([])), TensorShape([])), TensorShape([]))>\n",
            "<_VariantDataset shapes: DatasetSpec(DatasetSpec(DatasetSpec(TensorSpec(shape=(), dtype=tf.float32, name=None), TensorShape([])), TensorShape([])), TensorShape([])), types: DatasetSpec(DatasetSpec(DatasetSpec(TensorSpec(shape=(), dtype=tf.float32, name=None), TensorShape([])), TensorShape([])), TensorShape([]))>\n",
            "<_VariantDataset shapes: DatasetSpec(DatasetSpec(DatasetSpec(TensorSpec(shape=(), dtype=tf.float32, name=None), TensorShape([])), TensorShape([])), TensorShape([])), types: DatasetSpec(DatasetSpec(DatasetSpec(TensorSpec(shape=(), dtype=tf.float32, name=None), TensorShape([])), TensorShape([])), TensorShape([]))>\n",
            "<_VariantDataset shapes: DatasetSpec(DatasetSpec(DatasetSpec(TensorSpec(shape=(), dtype=tf.float32, name=None), TensorShape([])), TensorShape([])), TensorShape([])), types: DatasetSpec(DatasetSpec(DatasetSpec(TensorSpec(shape=(), dtype=tf.float32, name=None), TensorShape([])), TensorShape([])), TensorShape([]))>\n",
            "<_VariantDataset shapes: DatasetSpec(DatasetSpec(DatasetSpec(TensorSpec(shape=(), dtype=tf.float32, name=None), TensorShape([])), TensorShape([])), TensorShape([])), types: DatasetSpec(DatasetSpec(DatasetSpec(TensorSpec(shape=(), dtype=tf.float32, name=None), TensorShape([])), TensorShape([])), TensorShape([]))>\n",
            "<_VariantDataset shapes: DatasetSpec(DatasetSpec(DatasetSpec(TensorSpec(shape=(), dtype=tf.float32, name=None), TensorShape([])), TensorShape([])), TensorShape([])), types: DatasetSpec(DatasetSpec(DatasetSpec(TensorSpec(shape=(), dtype=tf.float32, name=None), TensorShape([])), TensorShape([])), TensorShape([]))>\n",
            "<_VariantDataset shapes: DatasetSpec(DatasetSpec(DatasetSpec(TensorSpec(shape=(), dtype=tf.float32, name=None), TensorShape([])), TensorShape([])), TensorShape([])), types: DatasetSpec(DatasetSpec(DatasetSpec(TensorSpec(shape=(), dtype=tf.float32, name=None), TensorShape([])), TensorShape([])), TensorShape([]))>\n",
            "<_VariantDataset shapes: DatasetSpec(DatasetSpec(DatasetSpec(TensorSpec(shape=(), dtype=tf.float32, name=None), TensorShape([])), TensorShape([])), TensorShape([])), types: DatasetSpec(DatasetSpec(DatasetSpec(TensorSpec(shape=(), dtype=tf.float32, name=None), TensorShape([])), TensorShape([])), TensorShape([]))>\n",
            "<_VariantDataset shapes: DatasetSpec(DatasetSpec(DatasetSpec(TensorSpec(shape=(), dtype=tf.float32, name=None), TensorShape([])), TensorShape([])), TensorShape([])), types: DatasetSpec(DatasetSpec(DatasetSpec(TensorSpec(shape=(), dtype=tf.float32, name=None), TensorShape([])), TensorShape([])), TensorShape([]))>\n",
            "<_VariantDataset shapes: DatasetSpec(DatasetSpec(DatasetSpec(TensorSpec(shape=(), dtype=tf.float32, name=None), TensorShape([])), TensorShape([])), TensorShape([])), types: DatasetSpec(DatasetSpec(DatasetSpec(TensorSpec(shape=(), dtype=tf.float32, name=None), TensorShape([])), TensorShape([])), TensorShape([]))>\n",
            "<_VariantDataset shapes: DatasetSpec(DatasetSpec(DatasetSpec(TensorSpec(shape=(), dtype=tf.float32, name=None), TensorShape([])), TensorShape([])), TensorShape([])), types: DatasetSpec(DatasetSpec(DatasetSpec(TensorSpec(shape=(), dtype=tf.float32, name=None), TensorShape([])), TensorShape([])), TensorShape([]))>\n",
            "<_VariantDataset shapes: DatasetSpec(DatasetSpec(DatasetSpec(TensorSpec(shape=(), dtype=tf.float32, name=None), TensorShape([])), TensorShape([])), TensorShape([])), types: DatasetSpec(DatasetSpec(DatasetSpec(TensorSpec(shape=(), dtype=tf.float32, name=None), TensorShape([])), TensorShape([])), TensorShape([]))>\n",
            "<_VariantDataset shapes: DatasetSpec(DatasetSpec(DatasetSpec(TensorSpec(shape=(), dtype=tf.float32, name=None), TensorShape([])), TensorShape([])), TensorShape([])), types: DatasetSpec(DatasetSpec(DatasetSpec(TensorSpec(shape=(), dtype=tf.float32, name=None), TensorShape([])), TensorShape([])), TensorShape([]))>\n",
            "<_VariantDataset shapes: DatasetSpec(DatasetSpec(DatasetSpec(TensorSpec(shape=(), dtype=tf.float32, name=None), TensorShape([])), TensorShape([])), TensorShape([])), types: DatasetSpec(DatasetSpec(DatasetSpec(TensorSpec(shape=(), dtype=tf.float32, name=None), TensorShape([])), TensorShape([])), TensorShape([]))>\n",
            "<_VariantDataset shapes: DatasetSpec(DatasetSpec(DatasetSpec(TensorSpec(shape=(), dtype=tf.float32, name=None), TensorShape([])), TensorShape([])), TensorShape([])), types: DatasetSpec(DatasetSpec(DatasetSpec(TensorSpec(shape=(), dtype=tf.float32, name=None), TensorShape([])), TensorShape([])), TensorShape([]))>\n",
            "<_VariantDataset shapes: DatasetSpec(DatasetSpec(DatasetSpec(TensorSpec(shape=(), dtype=tf.float32, name=None), TensorShape([])), TensorShape([])), TensorShape([])), types: DatasetSpec(DatasetSpec(DatasetSpec(TensorSpec(shape=(), dtype=tf.float32, name=None), TensorShape([])), TensorShape([])), TensorShape([]))>\n",
            "<_VariantDataset shapes: DatasetSpec(DatasetSpec(DatasetSpec(TensorSpec(shape=(), dtype=tf.float32, name=None), TensorShape([])), TensorShape([])), TensorShape([])), types: DatasetSpec(DatasetSpec(DatasetSpec(TensorSpec(shape=(), dtype=tf.float32, name=None), TensorShape([])), TensorShape([])), TensorShape([]))>\n",
            "<_VariantDataset shapes: DatasetSpec(DatasetSpec(DatasetSpec(TensorSpec(shape=(), dtype=tf.float32, name=None), TensorShape([])), TensorShape([])), TensorShape([])), types: DatasetSpec(DatasetSpec(DatasetSpec(TensorSpec(shape=(), dtype=tf.float32, name=None), TensorShape([])), TensorShape([])), TensorShape([]))>\n",
            "<_VariantDataset shapes: DatasetSpec(DatasetSpec(DatasetSpec(TensorSpec(shape=(), dtype=tf.float32, name=None), TensorShape([])), TensorShape([])), TensorShape([])), types: DatasetSpec(DatasetSpec(DatasetSpec(TensorSpec(shape=(), dtype=tf.float32, name=None), TensorShape([])), TensorShape([])), TensorShape([]))>\n",
            "<_VariantDataset shapes: DatasetSpec(DatasetSpec(DatasetSpec(TensorSpec(shape=(), dtype=tf.float32, name=None), TensorShape([])), TensorShape([])), TensorShape([])), types: DatasetSpec(DatasetSpec(DatasetSpec(TensorSpec(shape=(), dtype=tf.float32, name=None), TensorShape([])), TensorShape([])), TensorShape([]))>\n"
          ],
          "name": "stdout"
        }
      ]
    },
    {
      "cell_type": "code",
      "metadata": {
        "id": "gVV7kMowwVvy",
        "colab_type": "code",
        "outputId": "2b775c57-084f-4cab-d357-65efcbc660cf",
        "colab": {
          "base_uri": "https://localhost:8080/",
          "height": 54
        }
      },
      "source": [
        "dataset=dataset.flat_map(lambda window: window.batch(window_size+1))\n",
        "for x in dataset:\n",
        "  print(x)\n",
        "  break"
      ],
      "execution_count": 0,
      "outputs": [
        {
          "output_type": "stream",
          "text": [
            "<tensorflow.python.data.ops.dataset_ops._NestedVariant object at 0x7f2fff342b38>\n"
          ],
          "name": "stdout"
        }
      ]
    },
    {
      "cell_type": "code",
      "metadata": {
        "id": "L6Qq5LZc1Ltg",
        "colab_type": "code",
        "colab": {}
      },
      "source": [
        "##will part the array into two parts after shuffling...like one array will have all\n",
        "##the ips and one array will have only one element as the label\n",
        "dataset=dataset.shuffle(shuffle_buffer).map(lambda window: (window[:-1],window[-1]))\n",
        "\n",
        "##will group them into batches as per the batch_size\n",
        "dataset=dataset.batch(batch_size).prefetch(1)\n"
      ],
      "execution_count": 0,
      "outputs": []
    },
    {
      "cell_type": "code",
      "metadata": {
        "id": "gZGFkKko13II",
        "colab_type": "code",
        "colab": {}
      },
      "source": [
        "##Consolidating all the above steps in one function\n",
        "\n",
        "def windowed_dataset(series, window_size, batch_size, shuffle_buffer):\n",
        "  dataset = tf.data.Dataset.from_tensor_slices(series)\n",
        "  dataset = dataset.window(window_size + 1, shift=1, drop_remainder=True)\n",
        "  dataset = dataset.flat_map(lambda window: window.batch(window_size + 1))\n",
        "  dataset = dataset.shuffle(shuffle_buffer).map(lambda window: (window[:-1], window[-1]))\n",
        "  dataset = dataset.batch(batch_size).prefetch(1)\n",
        "  return dataset"
      ],
      "execution_count": 0,
      "outputs": []
    },
    {
      "cell_type": "code",
      "metadata": {
        "id": "UhnJTj1G2yI0",
        "colab_type": "code",
        "colab": {}
      },
      "source": [
        "dataset = windowed_dataset(x_train, window_size, batch_size, shuffle_buffer_size)\n",
        "print(dataset)\n",
        "l0 = tf.keras.layers.Dense(1, input_shape=[window_size])\n",
        "model = tf.keras.models.Sequential([l0])\n",
        "\n",
        "\n",
        "model.compile(loss=\"mse\", optimizer=tf.keras.optimizers.SGD(lr=1e-6, momentum=0.9))\n",
        "model.fit(dataset,epochs=100,verbose=0)\n",
        "\n",
        "print(\"Layer weights {}\".format(l0.get_weights()))"
      ],
      "execution_count": 0,
      "outputs": []
    },
    {
      "cell_type": "code",
      "metadata": {
        "id": "qbRGQZTr22-i",
        "colab_type": "code",
        "colab": {}
      },
      "source": [
        "forecast = []\n",
        "\n",
        "for time in range(len(series) - window_size):\n",
        "  forecast.append(model.predict(series[time:time + window_size][np.newaxis]))\n",
        "\n",
        "forecast = forecast[split_time-window_size:]\n",
        "results = np.array(forecast)[:, 0, 0]\n",
        "\n",
        "\n",
        "plt.figure(figsize=(10, 6))\n",
        "\n",
        "plot_series(time_valid, x_valid)\n",
        "plot_series(time_valid, results)"
      ],
      "execution_count": 0,
      "outputs": []
    },
    {
      "cell_type": "code",
      "metadata": {
        "id": "88mfcsbC24Ug",
        "colab_type": "code",
        "colab": {}
      },
      "source": [
        "tf.keras.metrics.mean_absolute_error(x_valid, results).numpy()"
      ],
      "execution_count": 0,
      "outputs": []
    }
  ]
}